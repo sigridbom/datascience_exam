{
 "cells": [
  {
   "cell_type": "markdown",
   "metadata": {},
   "source": [
    "# 3. Building and evaluating different models"
   ]
  },
  {
   "cell_type": "markdown",
   "metadata": {},
   "source": [
    "#### Procedure\n",
    "- Training data set (which has been embedded) will be run on different models and evaluated using the validation set. \n",
    "\n",
    "I expect that the data should be regularized. I'll take care of that when I've found the most promising model. \n",
    "\n",
    "When the 'winning' model has been regularized and fine-tuned using cross-validation, the model will be tested on the test set, and the results will be reported.\n"
   ]
  },
  {
   "cell_type": "code",
   "execution_count": 1,
   "metadata": {
    "metadata": {}
   },
   "outputs": [
    {
     "name": "stderr",
     "output_type": "stream",
     "text": [
      "/work/datascience_exam/env/lib/python3.12/site-packages/tqdm/auto.py:21: TqdmWarning: IProgress not found. Please update jupyter and ipywidgets. See https://ipywidgets.readthedocs.io/en/stable/user_install.html\n",
      "  from .autonotebook import tqdm as notebook_tqdm\n"
     ]
    }
   ],
   "source": [
    "# important packages \n",
    "import numpy as np\n",
    "import pandas as pd\n",
    "import matplotlib.pyplot as plt\n",
    "import seaborn as sns\n",
    "\n",
    "from sklearn.model_selection import cross_val_score\n",
    "from sklearn.metrics import make_scorer, mean_absolute_error, mean_squared_error \n",
    "from sklearn.metrics import r2_score\n",
    "from sklearn.neighbors import KNeighborsRegressor\n",
    "from sklearn.preprocessing import StandardScaler\n",
    "from sklearn.linear_model import LinearRegression, Lasso, Ridge\n",
    "\n",
    "## random forrest og feature importance \n",
    "from sklearn.model_selection import GridSearchCV, RandomizedSearchCV\n",
    "from sklearn.ensemble import RandomForestRegressor\n",
    "import pickle as pkl\n",
    "import shap\n"
   ]
  },
  {
   "cell_type": "markdown",
   "metadata": {},
   "source": [
    "## Loading data"
   ]
  },
  {
   "cell_type": "code",
   "execution_count": 2,
   "metadata": {
    "metadata": {}
   },
   "outputs": [],
   "source": [
    "# load data which has been embedded, clustered and dimensionality reduced using PCA\n",
    "# load training dataset\n",
    "train = pd.read_csv('/work/datascience_exam/data/train_features.csv', index_col = 0)\n",
    "\n",
    "X_train = train.iloc[:,:237] # all columns but the last one which is 'Age of Death'\n",
    "y_train = train.loc[:,'Age of death']"
   ]
  },
  {
   "cell_type": "code",
   "execution_count": 3,
   "metadata": {
    "metadata": {}
   },
   "outputs": [],
   "source": [
    "# loading validation dataset\n",
    "val = pd.read_csv('/work/datascience_exam/data/val_features.csv', index_col = 0)\n",
    "\n",
    "X_val = val.iloc[:,:237] # all columns but the last one which is 'Age of Death'\n",
    "y_val = val.loc[:,'Age of death']"
   ]
  },
  {
   "cell_type": "code",
   "execution_count": 4,
   "metadata": {
    "metadata": {}
   },
   "outputs": [],
   "source": [
    "# loading test data\n",
    "test = pd.read_csv('/work/datascience_exam/data/test_features.csv', index_col = 0)\n",
    "\n",
    "X_test = test.iloc[:,:237] # all columns but the last one which is 'Age of Death'\n",
    "y_test = test.loc[:,'Age of death']"
   ]
  },
  {
   "cell_type": "code",
   "execution_count": 117,
   "metadata": {
    "metadata": {}
   },
   "outputs": [
    {
     "data": {
      "text/html": [
       "<div>\n",
       "<style scoped>\n",
       "    .dataframe tbody tr th:only-of-type {\n",
       "        vertical-align: middle;\n",
       "    }\n",
       "\n",
       "    .dataframe tbody tr th {\n",
       "        vertical-align: top;\n",
       "    }\n",
       "\n",
       "    .dataframe thead th {\n",
       "        text-align: right;\n",
       "    }\n",
       "</style>\n",
       "<table border=\"1\" class=\"dataframe\">\n",
       "  <thead>\n",
       "    <tr style=\"text-align: right;\">\n",
       "      <th></th>\n",
       "      <th>Gender_encode</th>\n",
       "      <th>Birth year</th>\n",
       "      <th>Occupation_cluster</th>\n",
       "      <th>country1</th>\n",
       "      <th>country2</th>\n",
       "      <th>country3</th>\n",
       "      <th>country4</th>\n",
       "      <th>country5</th>\n",
       "      <th>country6</th>\n",
       "      <th>country7</th>\n",
       "      <th>...</th>\n",
       "      <th>description143</th>\n",
       "      <th>description144</th>\n",
       "      <th>description145</th>\n",
       "      <th>description146</th>\n",
       "      <th>description147</th>\n",
       "      <th>description148</th>\n",
       "      <th>description149</th>\n",
       "      <th>description150</th>\n",
       "      <th>description151</th>\n",
       "      <th>description152</th>\n",
       "    </tr>\n",
       "  </thead>\n",
       "  <tbody>\n",
       "    <tr>\n",
       "      <th>0</th>\n",
       "      <td>2</td>\n",
       "      <td>1915</td>\n",
       "      <td>1</td>\n",
       "      <td>-0.203594</td>\n",
       "      <td>-0.144200</td>\n",
       "      <td>0.094234</td>\n",
       "      <td>-0.186961</td>\n",
       "      <td>0.011282</td>\n",
       "      <td>-0.267115</td>\n",
       "      <td>0.042559</td>\n",
       "      <td>...</td>\n",
       "      <td>-0.002223</td>\n",
       "      <td>0.031173</td>\n",
       "      <td>-0.015610</td>\n",
       "      <td>0.021765</td>\n",
       "      <td>-0.043946</td>\n",
       "      <td>-0.055602</td>\n",
       "      <td>0.099160</td>\n",
       "      <td>0.005596</td>\n",
       "      <td>0.025316</td>\n",
       "      <td>0.010624</td>\n",
       "    </tr>\n",
       "    <tr>\n",
       "      <th>1</th>\n",
       "      <td>1</td>\n",
       "      <td>1915</td>\n",
       "      <td>0</td>\n",
       "      <td>-0.201265</td>\n",
       "      <td>-0.031549</td>\n",
       "      <td>0.048032</td>\n",
       "      <td>-0.224219</td>\n",
       "      <td>-0.395700</td>\n",
       "      <td>0.084482</td>\n",
       "      <td>-0.024386</td>\n",
       "      <td>...</td>\n",
       "      <td>0.010041</td>\n",
       "      <td>-0.029504</td>\n",
       "      <td>-0.007824</td>\n",
       "      <td>0.001081</td>\n",
       "      <td>0.023954</td>\n",
       "      <td>-0.006589</td>\n",
       "      <td>-0.006589</td>\n",
       "      <td>0.017155</td>\n",
       "      <td>-0.019700</td>\n",
       "      <td>-0.009435</td>\n",
       "    </tr>\n",
       "    <tr>\n",
       "      <th>2</th>\n",
       "      <td>1</td>\n",
       "      <td>1923</td>\n",
       "      <td>0</td>\n",
       "      <td>-0.273769</td>\n",
       "      <td>-0.121739</td>\n",
       "      <td>-0.152663</td>\n",
       "      <td>0.409265</td>\n",
       "      <td>-0.110530</td>\n",
       "      <td>0.146183</td>\n",
       "      <td>0.105975</td>\n",
       "      <td>...</td>\n",
       "      <td>-0.003499</td>\n",
       "      <td>0.002186</td>\n",
       "      <td>0.005657</td>\n",
       "      <td>0.013795</td>\n",
       "      <td>0.006256</td>\n",
       "      <td>-0.000399</td>\n",
       "      <td>0.004402</td>\n",
       "      <td>-0.004409</td>\n",
       "      <td>0.008620</td>\n",
       "      <td>0.000956</td>\n",
       "    </tr>\n",
       "    <tr>\n",
       "      <th>3</th>\n",
       "      <td>1</td>\n",
       "      <td>1918</td>\n",
       "      <td>2</td>\n",
       "      <td>-0.349983</td>\n",
       "      <td>-0.160185</td>\n",
       "      <td>-0.229322</td>\n",
       "      <td>-0.122732</td>\n",
       "      <td>0.266424</td>\n",
       "      <td>0.049163</td>\n",
       "      <td>-0.095842</td>\n",
       "      <td>...</td>\n",
       "      <td>0.011873</td>\n",
       "      <td>0.013108</td>\n",
       "      <td>-0.010277</td>\n",
       "      <td>-0.005705</td>\n",
       "      <td>0.001044</td>\n",
       "      <td>-0.009338</td>\n",
       "      <td>0.039861</td>\n",
       "      <td>0.008489</td>\n",
       "      <td>-0.014900</td>\n",
       "      <td>-0.028253</td>\n",
       "    </tr>\n",
       "    <tr>\n",
       "      <th>4</th>\n",
       "      <td>1</td>\n",
       "      <td>1856</td>\n",
       "      <td>3</td>\n",
       "      <td>-0.029722</td>\n",
       "      <td>0.303856</td>\n",
       "      <td>0.063169</td>\n",
       "      <td>-0.040947</td>\n",
       "      <td>0.083048</td>\n",
       "      <td>-0.158634</td>\n",
       "      <td>0.014466</td>\n",
       "      <td>...</td>\n",
       "      <td>0.027537</td>\n",
       "      <td>-0.052587</td>\n",
       "      <td>-0.002195</td>\n",
       "      <td>0.020234</td>\n",
       "      <td>0.008825</td>\n",
       "      <td>-0.071778</td>\n",
       "      <td>0.031260</td>\n",
       "      <td>0.011545</td>\n",
       "      <td>0.020523</td>\n",
       "      <td>0.016538</td>\n",
       "    </tr>\n",
       "  </tbody>\n",
       "</table>\n",
       "<p>5 rows × 237 columns</p>\n",
       "</div>"
      ],
      "text/plain": [
       "   Gender_encode  Birth year  Occupation_cluster  country1  country2  \\\n",
       "0              2        1915                   1 -0.203594 -0.144200   \n",
       "1              1        1915                   0 -0.201265 -0.031549   \n",
       "2              1        1923                   0 -0.273769 -0.121739   \n",
       "3              1        1918                   2 -0.349983 -0.160185   \n",
       "4              1        1856                   3 -0.029722  0.303856   \n",
       "\n",
       "   country3  country4  country5  country6  country7  ...  description143  \\\n",
       "0  0.094234 -0.186961  0.011282 -0.267115  0.042559  ...       -0.002223   \n",
       "1  0.048032 -0.224219 -0.395700  0.084482 -0.024386  ...        0.010041   \n",
       "2 -0.152663  0.409265 -0.110530  0.146183  0.105975  ...       -0.003499   \n",
       "3 -0.229322 -0.122732  0.266424  0.049163 -0.095842  ...        0.011873   \n",
       "4  0.063169 -0.040947  0.083048 -0.158634  0.014466  ...        0.027537   \n",
       "\n",
       "   description144  description145  description146  description147  \\\n",
       "0        0.031173       -0.015610        0.021765       -0.043946   \n",
       "1       -0.029504       -0.007824        0.001081        0.023954   \n",
       "2        0.002186        0.005657        0.013795        0.006256   \n",
       "3        0.013108       -0.010277       -0.005705        0.001044   \n",
       "4       -0.052587       -0.002195        0.020234        0.008825   \n",
       "\n",
       "   description148  description149  description150  description151  \\\n",
       "0       -0.055602        0.099160        0.005596        0.025316   \n",
       "1       -0.006589       -0.006589        0.017155       -0.019700   \n",
       "2       -0.000399        0.004402       -0.004409        0.008620   \n",
       "3       -0.009338        0.039861        0.008489       -0.014900   \n",
       "4       -0.071778        0.031260        0.011545        0.020523   \n",
       "\n",
       "   description152  \n",
       "0        0.010624  \n",
       "1       -0.009435  \n",
       "2        0.000956  \n",
       "3       -0.028253  \n",
       "4        0.016538  \n",
       "\n",
       "[5 rows x 237 columns]"
      ]
     },
     "execution_count": 117,
     "metadata": {},
     "output_type": "execute_result"
    }
   ],
   "source": [
    "X_train.head()"
   ]
  },
  {
   "cell_type": "markdown",
   "metadata": {},
   "source": [
    "## Building models\n",
    "\n",
    "I want to build the following models:\n",
    "\n",
    "- Model 1: A 'dummy' model with only the mean of y as feature\n",
    "- Model 2: A 'baseline' model \n",
    "    - one which only includes 'gender' as a feature\n",
    "    - one which only includes 'birth year' as a feature\n",
    "- Model 3: The full model which includes all predictors. \n",
    "\n",
    "Model 2 will be modelled as a linear regression. \n",
    "\n",
    "Model 3 will be modelled as a linear regression, KNN-regression and a random forest.\n"
   ]
  },
  {
   "cell_type": "code",
   "execution_count": 23,
   "metadata": {
    "metadata": {}
   },
   "outputs": [],
   "source": [
    "performances = []"
   ]
  },
  {
   "cell_type": "code",
   "execution_count": 24,
   "metadata": {
    "metadata": {}
   },
   "outputs": [],
   "source": [
    "### Dummy model\n",
    "mean_value = y_train.mean()\n",
    "\n",
    "performance = np.sqrt(mean_squared_error(y_val, [mean_value]*len(y_val)))\n",
    "r2 = r2_score(y_val, [mean_value]*len(y_val))\n",
    "performances.append({'model': 'dummy',\n",
    "                     'split': 'validation',\n",
    "                     'rmse': performance.round(4),\n",
    "                     'r2': r2.round(4)})"
   ]
  },
  {
   "cell_type": "code",
   "execution_count": 25,
   "metadata": {
    "metadata": {}
   },
   "outputs": [],
   "source": [
    "### Baseline model - only predictor is gender - linear regression\n",
    "\n",
    "gender_train = X_train.loc[:, ['Gender_encode']]\n",
    "gender_val = X_val.loc[:, ['Gender_encode']]\n",
    "\n",
    "reg = LinearRegression().fit(gender_train, y_train)\n",
    "\n",
    "preds =  reg.predict(gender_val)\n",
    "r2 = r2_score(y_val, preds)\n",
    "performance = np.sqrt(mean_squared_error(y_val, preds))\n",
    "performances.append({'model': 'linear-gender',\n",
    "                     'split': 'validation',\n",
    "                     'rmse': performance.round(4),\n",
    "                     'r2': r2.round(4)})"
   ]
  },
  {
   "cell_type": "code",
   "execution_count": 26,
   "metadata": {
    "metadata": {}
   },
   "outputs": [],
   "source": [
    "### Baseline model - only predictor is birth year - linear regression\n",
    "\n",
    "birth_year_train = X_train.loc[:, ['Birth year']]\n",
    "birth_year_val = X_val.loc[:, ['Birth year']]\n",
    "\n",
    "reg = LinearRegression().fit(birth_year_train, y_train)\n",
    "\n",
    "preds =  reg.predict(birth_year_val)\n",
    "r2 = r2_score(y_val, preds)\n",
    "performance = np.sqrt(mean_squared_error(y_val, preds))\n",
    "performances.append({'model': 'linear-birth_year',\n",
    "                        'split': 'validation',\n",
    "                        'rmse': performance.round(4),\n",
    "                        'r2': r2.round(4)})"
   ]
  },
  {
   "cell_type": "code",
   "execution_count": 27,
   "metadata": {
    "metadata": {}
   },
   "outputs": [],
   "source": [
    "### full linear model (includes all features)\n",
    "\n",
    "reg = LinearRegression().fit(X_train, y_train)\n",
    "\n",
    "preds =  reg.predict(X_val)\n",
    "r2 = r2_score(y_val, preds)\n",
    "performance = np.sqrt(mean_squared_error(y_val, preds))\n",
    "performances.append({'model': 'linear-full',\n",
    "                         'split': 'validation',\n",
    "                         'rmse': performance.round(4),\n",
    "                         'r2': r2.round(4)})"
   ]
  },
  {
   "cell_type": "code",
   "execution_count": 28,
   "metadata": {
    "metadata": {}
   },
   "outputs": [],
   "source": [
    "# full linear model (includes all features) - with lasso regularization\n",
    "reg = Lasso().fit(X_train, y_train)\n",
    "\n",
    "preds = reg.predict(X_val)\n",
    "r2 = r2_score(y_val, preds)\n",
    "performance = np.sqrt(mean_squared_error(y_val, preds))\n",
    "performances.append({'model': 'linear_lasso_alpha_1.0',\n",
    "                         'split': 'validation',\n",
    "                         'rmse': performance.round(4),\n",
    "                         'r2': r2.round(4)})"
   ]
  },
  {
   "cell_type": "code",
   "execution_count": 29,
   "metadata": {
    "metadata": {}
   },
   "outputs": [],
   "source": [
    "# full linear model (includes all features) - with ridge regularization\n",
    "reg = Ridge().fit(X_train, y_train)\n",
    "\n",
    "preds = reg.predict(X_val)\n",
    "r2 = r2_score(y_val, preds)\n",
    "performance = np.sqrt(mean_squared_error(y_val, preds))\n",
    "performances.append({'model': 'linear_ridge_alpha_1.0',\n",
    "                         'split': 'validation',\n",
    "                         'rmse': performance.round(4),\n",
    "                         'r2': r2.round(4)})"
   ]
  },
  {
   "cell_type": "code",
   "execution_count": 61,
   "metadata": {
    "metadata": {}
   },
   "outputs": [],
   "source": [
    "# KNN (non-parametric) linear regression\n",
    "\n",
    "k = 10\n",
    "neigh = KNeighborsRegressor(n_neighbors=k)\n",
    "neigh.fit(X_train, y_train)\n",
    "\n",
    "preds = neigh.predict(X_val)\n",
    "r2 = r2_score(y_val, preds)\n",
    "performance = np.sqrt(mean_squared_error(y_val, preds))\n",
    "performances.append({'model': f'knn-allpreds-{k}',\n",
    "                        'split': 'validation',\n",
    "                        'rmse': performance.round(4),\n",
    "                        'r2': r2.round(4)})"
   ]
  },
  {
   "cell_type": "code",
   "execution_count": 62,
   "metadata": {
    "metadata": {}
   },
   "outputs": [],
   "source": [
    "# save model\n",
    "#pkl.dump(neigh, file=open(f'/work/datascience_exam/output/models/knn-allpreds-{k}.pkl', 'wb')) # save the model"
   ]
  },
  {
   "cell_type": "code",
   "execution_count": 33,
   "metadata": {
    "metadata": {}
   },
   "outputs": [],
   "source": [
    "# reload model \n",
    "neigh = pkl.load(open('/work/datascience_exam/output/models/knn-allpreds-10.pkl','rb'))"
   ]
  },
  {
   "cell_type": "code",
   "execution_count": 21,
   "metadata": {
    "metadata": {}
   },
   "outputs": [],
   "source": [
    "# randomforest model with default parameter values and all features (255 min in ucloud!)\n",
    "\n",
    "rfreg = RandomForestRegressor(random_state=42)\n",
    "rfreg.fit(X_train, y_train) \n",
    "\n",
    "preds = rfreg.predict(X_val)\n",
    "r2 = r2_score(y_val, preds)\n",
    "performance = np.sqrt(mean_squared_error(y_val, preds))\n",
    "performances.append({'model': 'randomforest_default_allpreds', # rfr_default (old name)\n",
    "                        'split': 'validation',\n",
    "                         'rmse': performance.round(4),\n",
    "                         'r2': r2.round(4)})"
   ]
  },
  {
   "cell_type": "code",
   "execution_count": 22,
   "metadata": {
    "metadata": {}
   },
   "outputs": [],
   "source": [
    "# save model \n",
    "#pkl.dump(rfreg, file=open(f'/work/datascience_exam/output/models/rfr_default_all_features.pkl', 'wb')) # save the model"
   ]
  },
  {
   "cell_type": "code",
   "execution_count": 35,
   "metadata": {
    "metadata": {}
   },
   "outputs": [],
   "source": [
    "# reload model \n",
    "rfreg = pkl.load(open('/work/datascience_exam/output/models/rfr_default_all_features.pkl','rb'))"
   ]
  },
  {
   "cell_type": "code",
   "execution_count": 37,
   "metadata": {
    "metadata": {}
   },
   "outputs": [
    {
     "name": "stdout",
     "output_type": "stream",
     "text": [
      "{'model': 'dummy', 'split': 'validation', 'rmse': 15.9833, 'r2': -0.0}\n",
      "{'model': 'linear-gender', 'split': 'validation', 'rmse': 15.9637, 'r2': 0.0024}\n",
      "{'model': 'linear-birth_year', 'split': 'validation', 'rmse': 15.8422, 'r2': 0.0176}\n",
      "{'model': 'linear-full', 'split': 'validation', 'rmse': 15.3703, 'r2': 0.0752}\n",
      "{'model': 'linear_lasso_alpha_1.0', 'split': 'validation', 'rmse': 15.8422, 'r2': 0.0176}\n",
      "{'model': 'linear_ridge_alpha_1.0', 'split': 'validation', 'rmse': 15.3702, 'r2': 0.0752}\n",
      "{'model': 'knn-allpreds-10', 'split': 'validation', 'rmse': 14.5385, 'r2': 0.1726}\n",
      "{'model': 'randomforest_default_allpreds', 'split': 'validation', 'rmse': 14.1748, 'r2': 0.2135}\n"
     ]
    }
   ],
   "source": [
    "print(*performances, sep = '\\n')"
   ]
  },
  {
   "cell_type": "markdown",
   "metadata": {},
   "source": [
    "Looks like random forest wins, though it is not with a very convincing r^2 and RMSE. \n",
    "\n",
    "We'll continue the analysis with random forest regression.\n",
    "\n",
    "Before we move on to tuning (and regularizing) the model, I'll look at feature importances and see if I can do some feature selection. "
   ]
  },
  {
   "cell_type": "markdown",
   "metadata": {},
   "source": [
    "### Feature selection"
   ]
  },
  {
   "cell_type": "code",
   "execution_count": 38,
   "metadata": {
    "metadata": {}
   },
   "outputs": [
    {
     "data": {
      "text/plain": [
       "(237,)"
      ]
     },
     "execution_count": 38,
     "metadata": {},
     "output_type": "execute_result"
    }
   ],
   "source": [
    "# get feature importances from the model\n",
    "importances = rfreg.feature_importances_\n",
    "importances.shape"
   ]
  },
  {
   "cell_type": "code",
   "execution_count": 39,
   "metadata": {
    "metadata": {}
   },
   "outputs": [],
   "source": [
    "# get column names for plotting\n",
    "feature_names = X_train.columns\n",
    "# make dataframe\n",
    "feature_importances = pd.DataFrame({'Feature': feature_names, 'Importance': importances})\n",
    "\n",
    "# sort by importances\n",
    "feature_importances = feature_importances.sort_values(by='Importance', ascending=False)\n",
    "\n",
    "# chose number of importances to be plotted\n",
    "top_n = 50 \n",
    "top_features = feature_importances.head(top_n)"
   ]
  },
  {
   "cell_type": "code",
   "execution_count": 40,
   "metadata": {
    "metadata": {}
   },
   "outputs": [
    {
     "data": {
      "image/png": "[encoded data removed]",
      "text/plain": [
       "<Figure size 1000x600 with 1 Axes>"
      ]
     },
     "metadata": {},
     "output_type": "display_data"
    }
   ],
   "source": [
    "# plot feature importances\n",
    "plt.figure(figsize=(10, 6))\n",
    "plt.barh(top_features['Feature'], top_features['Importance'], color='skyblue')\n",
    "plt.xlabel('Importance')\n",
    "plt.ylabel('Feature')\n",
    "plt.yticks(fontsize = 7)\n",
    "plt.title(f'RandomForestRegressor (default set., all preds): Top {top_n} Feature Importances')\n",
    "plt.gca().invert_yaxis()\n",
    "fig = plt.gcf()\n",
    "plt.show()"
   ]
  },
  {
   "cell_type": "code",
   "execution_count": 41,
   "metadata": {
    "metadata": {}
   },
   "outputs": [],
   "source": [
    "fig.savefig('/work/datascience_exam/output/plots/rfr_feature_importances_full_default.jpg')"
   ]
  },
  {
   "cell_type": "code",
   "execution_count": 72,
   "metadata": {
    "metadata": {}
   },
   "outputs": [
    {
     "data": {
      "text/plain": [
       "(58, 2)"
      ]
     },
     "execution_count": 72,
     "metadata": {},
     "output_type": "execute_result"
    }
   ],
   "source": [
    "# We'll only keep relevant features in the model, so we are setting a threshold of 'importance'\n",
    "selected_features = feature_importances[feature_importances['Importance'] > 0.003] # this is a very low threshold\n",
    "selected_features.shape"
   ]
  },
  {
   "cell_type": "code",
   "execution_count": 9,
   "metadata": {
    "metadata": {}
   },
   "outputs": [],
   "source": [
    "# save features so they are easy to reload if anything crashes\n",
    "#selected_features.to_csv('/work/datascience_exam/output/models/selected_features.csv')\n",
    "selected_features = pd.read_csv('/work/datascience_exam/output/models/selected_features.csv', index_col = 0)"
   ]
  },
  {
   "cell_type": "code",
   "execution_count": 42,
   "metadata": {
    "metadata": {}
   },
   "outputs": [
    {
     "data": {
      "text/plain": [
       "(510302, 58)"
      ]
     },
     "execution_count": 42,
     "metadata": {},
     "output_type": "execute_result"
    }
   ],
   "source": [
    "# get the feature to keep in a list\n",
    "features_to_keep = selected_features['Feature'].tolist()\n",
    "\n",
    "# Filter that from X_train\n",
    "X_train_filtered = X_train[features_to_keep]\n",
    "X_train_filtered.shape"
   ]
  },
  {
   "cell_type": "code",
   "execution_count": 11,
   "metadata": {
    "metadata": {}
   },
   "outputs": [],
   "source": [
    "#X_train_filtered.to_csv('/work/datascience_exam/data/X_train_filtered.csv', index=False)"
   ]
  },
  {
   "cell_type": "code",
   "execution_count": 43,
   "metadata": {
    "metadata": {}
   },
   "outputs": [
    {
     "data": {
      "text/plain": [
       "(109351, 58)"
      ]
     },
     "execution_count": 43,
     "metadata": {},
     "output_type": "execute_result"
    }
   ],
   "source": [
    "# filter validation dataset, too and save\n",
    "X_val_filtered = X_val[features_to_keep]\n",
    "X_val_filtered.shape"
   ]
  },
  {
   "cell_type": "code",
   "execution_count": 77,
   "metadata": {
    "metadata": {}
   },
   "outputs": [],
   "source": [
    "# save X_val_filtered\n",
    "#X_val_filtered.to_csv('/work/datascience_exam/data/X_val_filtered.csv', index=False)"
   ]
  },
  {
   "cell_type": "markdown",
   "metadata": {},
   "source": [
    "#### Fitting randomforest again"
   ]
  },
  {
   "cell_type": "code",
   "execution_count": 18,
   "metadata": {
    "metadata": {}
   },
   "outputs": [],
   "source": [
    "# randomforest model with default parameter values - after feature selection # 64 min\n",
    "\n",
    "rfreg_58_features = RandomForestRegressor(random_state=42)\n",
    "rfreg_58_features.fit(X_train_filtered, y_train) \n",
    "\n",
    "preds = rfreg_58_features.predict(X_val_filtered)\n",
    "r2 = r2_score(y_val, preds)\n",
    "performance = np.sqrt(mean_squared_error(y_val, preds))\n",
    "performances.append({'model': 'randomforrest_default_58preds', # 'rfr_default_58_features' old name\n",
    "                        'split': 'validation',\n",
    "                         'rmse': performance.round(4),\n",
    "                         'r2': r2.round(4)})"
   ]
  },
  {
   "cell_type": "code",
   "execution_count": 19,
   "metadata": {
    "metadata": {}
   },
   "outputs": [],
   "source": [
    "# save model \n",
    "#pkl.dump(rfreg_58_features, file=open(f'/work/datascience_exam/output/models/rfr_default_58_features.pkl', 'wb')) # save the model"
   ]
  },
  {
   "cell_type": "code",
   "execution_count": 44,
   "metadata": {
    "metadata": {}
   },
   "outputs": [],
   "source": [
    "# reload model\n",
    "rfreg_58_features = pkl.load(open('/work/datascience_exam/output/models/rfr_default_58_features.pkl','rb'))"
   ]
  },
  {
   "cell_type": "code",
   "execution_count": 46,
   "metadata": {
    "metadata": {}
   },
   "outputs": [
    {
     "name": "stdout",
     "output_type": "stream",
     "text": [
      "{'model': 'dummy', 'split': 'validation', 'rmse': 15.9833, 'r2': -0.0}\n",
      "{'model': 'linear-gender', 'split': 'validation', 'rmse': 15.9637, 'r2': 0.0024}\n",
      "{'model': 'linear-birth_year', 'split': 'validation', 'rmse': 15.8422, 'r2': 0.0176}\n",
      "{'model': 'linear-full', 'split': 'validation', 'rmse': 15.3703, 'r2': 0.0752}\n",
      "{'model': 'linear_lasso_alpha_1.0', 'split': 'validation', 'rmse': 15.8422, 'r2': 0.0176}\n",
      "{'model': 'linear_ridge_alpha_1.0', 'split': 'validation', 'rmse': 15.3702, 'r2': 0.0752}\n",
      "{'model': 'knn-allpreds-10', 'split': 'validation', 'rmse': 14.5385, 'r2': 0.1726}\n",
      "{'model': 'randomforest_default_allpreds', 'split': 'validation', 'rmse': 14.1748, 'r2': 0.2135}\n",
      "{'model': 'randomforrest_default_58preds', 'split': 'validation', 'rmse': 14.205, 'r2': 0.2101}\n"
     ]
    }
   ],
   "source": [
    "print(*performances, sep = '\\n')"
   ]
  },
  {
   "cell_type": "code",
   "execution_count": 47,
   "metadata": {
    "metadata": {}
   },
   "outputs": [],
   "source": [
    "# check feature importances again\n",
    "importances = rfreg_58_features.feature_importances_\n",
    "\n",
    "# get column names\n",
    "feature_names = X_train_filtered.columns\n",
    "# make dataframe\n",
    "feature_importances = pd.DataFrame({'Feature': feature_names, 'Importance': importances})\n",
    "# sort by importance\n",
    "feature_importances = feature_importances.sort_values(by='Importance', ascending=False)\n",
    "\n",
    "# get the top 50 features to plot\n",
    "top_n = 50 \n",
    "top_features = feature_importances.head(top_n)\n"
   ]
  },
  {
   "cell_type": "code",
   "execution_count": 48,
   "metadata": {
    "metadata": {}
   },
   "outputs": [
    {
     "data": {
      "image/png": "[encoded data removed]",
      "text/plain": [
       "<Figure size 1000x600 with 1 Axes>"
      ]
     },
     "metadata": {},
     "output_type": "display_data"
    }
   ],
   "source": [
    "# plot feature importances\n",
    "plt.figure(figsize=(10, 6))\n",
    "plt.barh(top_features['Feature'], top_features['Importance'], color='skyblue')\n",
    "plt.xlabel('Importance')\n",
    "plt.ylabel('Feature')\n",
    "plt.yticks(fontsize = 7)\n",
    "plt.title(f'RandomForestRegressor (default, 58 preds): Top {top_n} Feature Importances')\n",
    "plt.gca().invert_yaxis()\n",
    "fig = plt.gcf()\n",
    "plt.show()"
   ]
  },
  {
   "cell_type": "code",
   "execution_count": 49,
   "metadata": {
    "metadata": {}
   },
   "outputs": [],
   "source": [
    "fig.savefig('/work/datascience_exam/output/plots/rfr_feature_importances_58preds_default.jpg')"
   ]
  },
  {
   "cell_type": "markdown",
   "metadata": {},
   "source": [
    "The model's performance almost didn't decrease even though I removed many of the features,\n",
    "\n",
    "which is an indication that many of the features are not important.\n",
    "\n",
    "I'll now make randomized search cross-validation to explore the best combination of parameters while \n",
    "\n",
    "constraining the model by introducing 'stopping' parameters. \n",
    "\n",
    "\n",
    "\n",
    "The default parameters of the RandomForest regression can be found below:"
   ]
  },
  {
   "cell_type": "markdown",
   "metadata": {},
   "source": [
    "Default parameters:\n",
    "- 'bootstrap': True,\n",
    "- 'criterion': 'mse',\n",
    "- 'max_depth': None,\n",
    "- 'max_features': 'auto',\n",
    "- 'max_leaf_nodes': None,\n",
    "- 'min_impurity_decrease': 0.0,\n",
    "- 'min_impurity_split': None,\n",
    "- 'min_samples_leaf': 1,\n",
    "- 'min_samples_split': 2,\n",
    "- 'min_weight_fraction_leaf': 0.0,\n",
    "- 'n_estimators': 10, # 10 trees\n",
    "- 'n_jobs': 1,\n",
    "- 'oob_score': False,\n",
    "- 'random_state': 42,\n",
    "- 'verbose': 0,\n",
    "- 'warm_start': False}"
   ]
  },
  {
   "cell_type": "code",
   "execution_count": 94,
   "metadata": {
    "metadata": {}
   },
   "outputs": [],
   "source": [
    "# random forrest model\n",
    "rfreg_cv = RandomForestRegressor(random_state=42)"
   ]
  },
  {
   "cell_type": "code",
   "execution_count": 40,
   "metadata": {
    "metadata": {}
   },
   "outputs": [],
   "source": [
    "# ~90 min \n",
    "param_grid = { \n",
    "    'n_estimators': [5, 10, 20, 100, 200], # number of trees - deafult is 10\n",
    "    'max_depth' : [5, 10, 15, 20], # max number of splits/leaves (leaf = node without children) - stopping criteria # default is none\n",
    "    'min_samples_split': [2, 5, 10], # min. number of samples required to split an internal node, default is 2\n",
    "    'max_features': [0.3, 0.6, 0.9], # proportion of features to max. use in a tree (subset proportion) - default is 1.0 (= all features)\n",
    "    'ccp_alpha': [0.01, 0.1, 1.0] # minimal-cost complexity pruning - to overvoid overfitting, default 0.0 \n",
    "}\n"
   ]
  },
  {
   "cell_type": "code",
   "execution_count": null,
   "metadata": {
    "metadata": {}
   },
   "outputs": [],
   "source": [
    "\n",
    "cv_rfr = RandomizedSearchCV(estimator=rfreg_cv, \n",
    "                            param_distributions=param_grid2,\n",
    "                            scoring='neg_root_mean_squared_error', # this is \"neg\" because CV wants a metric to maximize\n",
    "                            n_iter=10, \n",
    "                            cv=5,\n",
    "                            verbose = 2,\n",
    "                            n_jobs = -1)\n",
    "\n",
    "randomized_search = cv_rfr.fit(X_train_filtered, y_train)"
   ]
  },
  {
   "cell_type": "code",
   "execution_count": 97,
   "metadata": {
    "metadata": {}
   },
   "outputs": [],
   "source": [
    "# save \n",
    "#pkl.dump(randomized_search, file=open(f'/work/datascience_exam/output/models/randomized_search_cv_58_features.pkl', 'wb')) # save the model"
   ]
  },
  {
   "cell_type": "code",
   "execution_count": 50,
   "metadata": {
    "metadata": {}
   },
   "outputs": [],
   "source": [
    "# re-load model \n",
    "randomized_search = pkl.load(open('/work/datascience_exam/output/models/randomized_search_cv_58_features.pkl','rb'))"
   ]
  },
  {
   "cell_type": "code",
   "execution_count": null,
   "metadata": {
    "metadata": {}
   },
   "outputs": [],
   "source": [
    "randomized_search.cv_results_"
   ]
  },
  {
   "cell_type": "code",
   "execution_count": 52,
   "metadata": {
    "metadata": {}
   },
   "outputs": [
    {
     "data": {
      "text/plain": [
       "{'n_estimators': 200,\n",
       " 'min_samples_split': 10,\n",
       " 'max_features': 0.9,\n",
       " 'max_depth': 10,\n",
       " 'ccp_alpha': 0.01}"
      ]
     },
     "execution_count": 52,
     "metadata": {},
     "output_type": "execute_result"
    }
   ],
   "source": [
    "# best parameters of the randomized search \n",
    "randomized_search.best_params_"
   ]
  },
  {
   "cell_type": "markdown",
   "metadata": {},
   "source": [
    "The model maximizes the number of trees, but doesn't maximize tree depth. \n",
    "\n",
    "min_samples_split is also maximized, which should reduce overfitting.\n",
    "\n",
    "almost all features are used in a tree. ccp_alpha should maybe be more constrained."
   ]
  },
  {
   "cell_type": "markdown",
   "metadata": {},
   "source": [
    "Now we want to test the tuned model on the validation data "
   ]
  },
  {
   "cell_type": "code",
   "execution_count": 53,
   "metadata": {
    "metadata": {}
   },
   "outputs": [],
   "source": [
    "cv_rfr_tuned = randomized_search.best_estimator_ # has already been fitted\n",
    "\n",
    "preds = cv_rfr_tuned.predict(X_val_filtered)\n",
    "r2 = r2_score(y_val, preds)\n",
    "performance = np.sqrt(mean_squared_error(y_val, preds))\n",
    "performances.append({'model': 'randomforest_tuned_58preds', \n",
    "                        'split': 'validation',\n",
    "                        'rmse': performance.round(4),\n",
    "                        'r2': r2.round(4)})"
   ]
  },
  {
   "cell_type": "code",
   "execution_count": 53,
   "metadata": {
    "metadata": {}
   },
   "outputs": [],
   "source": [
    "#pkl.dump(cv_rfr_tuned, file=open(f'/work/datascience_exam/output/models/cv_rfr_tuned_58_features.pkl', 'wb')) # save the model"
   ]
  },
  {
   "cell_type": "code",
   "execution_count": 54,
   "metadata": {
    "metadata": {}
   },
   "outputs": [
    {
     "name": "stdout",
     "output_type": "stream",
     "text": [
      "{'model': 'dummy', 'split': 'validation', 'rmse': 15.9833, 'r2': -0.0}\n",
      "{'model': 'linear-gender', 'split': 'validation', 'rmse': 15.9637, 'r2': 0.0024}\n",
      "{'model': 'linear-birth_year', 'split': 'validation', 'rmse': 15.8422, 'r2': 0.0176}\n",
      "{'model': 'linear-full', 'split': 'validation', 'rmse': 15.3703, 'r2': 0.0752}\n",
      "{'model': 'linear_lasso_alpha_1.0', 'split': 'validation', 'rmse': 15.8422, 'r2': 0.0176}\n",
      "{'model': 'linear_ridge_alpha_1.0', 'split': 'validation', 'rmse': 15.3702, 'r2': 0.0752}\n",
      "{'model': 'knn-allpreds-10', 'split': 'validation', 'rmse': 14.5385, 'r2': 0.1726}\n",
      "{'model': 'randomforest_default_allpreds', 'split': 'validation', 'rmse': 14.1748, 'r2': 0.2135}\n",
      "{'model': 'randomforrest_default_58preds', 'split': 'validation', 'rmse': 14.205, 'r2': 0.2101}\n",
      "{'model': 'randomforest_tuned_58preds', 'split': 'validation', 'rmse': 13.8965, 'r2': 0.2441}\n"
     ]
    }
   ],
   "source": [
    "print(*performances, sep = '\\n')"
   ]
  },
  {
   "cell_type": "code",
   "execution_count": 55,
   "metadata": {
    "metadata": {}
   },
   "outputs": [],
   "source": [
    "# check feature importances again\n",
    "importances = cv_rfr_tuned.feature_importances_\n",
    "\n",
    "# get column names\n",
    "feature_names = X_train_filtered.columns\n",
    "# make dataframe\n",
    "feature_importances = pd.DataFrame({'Feature': feature_names, 'Importance': importances})\n",
    "# sort by importance\n",
    "feature_importances = feature_importances.sort_values(by='Importance', ascending=False)\n",
    "\n",
    "# get the top 50 features to plot\n",
    "top_n = 50 \n",
    "top_features = feature_importances.head(top_n)"
   ]
  },
  {
   "cell_type": "code",
   "execution_count": 56,
   "metadata": {
    "metadata": {}
   },
   "outputs": [
    {
     "data": {
      "image/png": "[encoded data removed]",
      "text/plain": [
       "<Figure size 1000x600 with 1 Axes>"
      ]
     },
     "metadata": {},
     "output_type": "display_data"
    }
   ],
   "source": [
    "# plot feature importances\n",
    "plt.figure(figsize=(10, 6))\n",
    "plt.barh(top_features['Feature'], top_features['Importance'], color='skyblue')\n",
    "plt.xlabel('Importance')\n",
    "plt.ylabel('Feature')\n",
    "plt.yticks(fontsize = 7)\n",
    "plt.title(f'RandomForestRegressor (tuned, 58 preds): Top {top_n} Feature Importances')\n",
    "plt.gca().invert_yaxis()\n",
    "fig = plt.gcf()\n",
    "plt.show()"
   ]
  },
  {
   "cell_type": "code",
   "execution_count": 57,
   "metadata": {
    "metadata": {}
   },
   "outputs": [],
   "source": [
    "fig.savefig('/work/datascience_exam/output/plots/rfr_feature_importances_tuned_58preds.jpg')"
   ]
  },
  {
   "cell_type": "markdown",
   "metadata": {},
   "source": [
    "### Testing model on the test dataset"
   ]
  },
  {
   "cell_type": "code",
   "execution_count": 58,
   "metadata": {
    "metadata": {}
   },
   "outputs": [
    {
     "data": {
      "text/plain": [
       "(109351, 58)"
      ]
     },
     "execution_count": 58,
     "metadata": {},
     "output_type": "execute_result"
    }
   ],
   "source": [
    "# It's time to test the test data. First we need to select the correct features\n",
    "X_test_filtered = X_test[features_to_keep]\n",
    "X_test_filtered.shape"
   ]
  },
  {
   "cell_type": "code",
   "execution_count": 59,
   "metadata": {
    "metadata": {}
   },
   "outputs": [],
   "source": [
    "# The final test; predicting test data\n",
    "preds = cv_rfr_tuned.predict(X_test_filtered)\n",
    "\n",
    "r2 = r2_score(y_test, preds)\n",
    "performance = np.sqrt(mean_squared_error(y_test, preds))\n",
    "performances.append({'model': 'randomforest_tuned_58preds', \n",
    "                        'split': 'test',\n",
    "                        'rmse': performance.round(4),\n",
    "                        'r2': r2.round(4)})\n"
   ]
  },
  {
   "cell_type": "code",
   "execution_count": 60,
   "metadata": {
    "metadata": {}
   },
   "outputs": [
    {
     "name": "stdout",
     "output_type": "stream",
     "text": [
      "{'model': 'dummy', 'split': 'validation', 'rmse': 15.9833, 'r2': -0.0}\n",
      "{'model': 'linear-gender', 'split': 'validation', 'rmse': 15.9637, 'r2': 0.0024}\n",
      "{'model': 'linear-birth_year', 'split': 'validation', 'rmse': 15.8422, 'r2': 0.0176}\n",
      "{'model': 'linear-full', 'split': 'validation', 'rmse': 15.3703, 'r2': 0.0752}\n",
      "{'model': 'linear_lasso_alpha_1.0', 'split': 'validation', 'rmse': 15.8422, 'r2': 0.0176}\n",
      "{'model': 'linear_ridge_alpha_1.0', 'split': 'validation', 'rmse': 15.3702, 'r2': 0.0752}\n",
      "{'model': 'knn-allpreds-10', 'split': 'validation', 'rmse': 14.5385, 'r2': 0.1726}\n",
      "{'model': 'randomforest_default_allpreds', 'split': 'validation', 'rmse': 14.1748, 'r2': 0.2135}\n",
      "{'model': 'randomforrest_default_58preds', 'split': 'validation', 'rmse': 14.205, 'r2': 0.2101}\n",
      "{'model': 'randomforest_tuned_58preds', 'split': 'validation', 'rmse': 13.8965, 'r2': 0.2441}\n",
      "{'model': 'randomforest_tuned_58preds', 'split': 'test', 'rmse': 13.8507, 'r2': 0.2431}\n"
     ]
    }
   ],
   "source": [
    "print(*performances, sep = '\\n')"
   ]
  },
  {
   "cell_type": "code",
   "execution_count": 61,
   "metadata": {
    "metadata": {}
   },
   "outputs": [
    {
     "data": {
      "image/png": "[encoded data removed]",
      "text/plain": [
       "<Figure size 640x480 with 1 Axes>"
      ]
     },
     "metadata": {},
     "output_type": "display_data"
    }
   ],
   "source": [
    "# plotting performances\n",
    "perf_df = pd.DataFrame(performances)\n",
    "sns.scatterplot(data=perf_df.sort_values(by='rmse', ascending=False), \n",
    "                y='model', \n",
    "                x='rmse', \n",
    "                marker='s', \n",
    "                hue='split', \n",
    "                palette=['darkorange','darkred'])\n",
    "plt.title(\"Performance of models\")\n",
    "plt.xlabel(\"root mean square error (RMSE)\")\n",
    "fig = plt.gcf() # get current figure\n",
    "plt.show()"
   ]
  },
  {
   "cell_type": "code",
   "execution_count": 62,
   "metadata": {
    "metadata": {}
   },
   "outputs": [],
   "source": [
    "fig.savefig('/work/datascience_exam/output/plots/performance_v2.jpg', bbox_inches='tight')"
   ]
  },
  {
   "cell_type": "code",
   "execution_count": 63,
   "metadata": {
    "metadata": {}
   },
   "outputs": [],
   "source": [
    "perf_df.to_csv('/work/datascience_exam/output/models/model_performances_v8.csv')"
   ]
  },
  {
   "cell_type": "markdown",
   "metadata": {},
   "source": [
    "Plotting feature importances again - this time using shap "
   ]
  },
  {
   "cell_type": "code",
   "execution_count": 69,
   "metadata": {
    "metadata": {}
   },
   "outputs": [],
   "source": [
    "# compute SHAP values\n",
    "explainer = shap.Explainer(cv_rfr_tuned, X_train_filtered)"
   ]
  },
  {
   "cell_type": "code",
   "execution_count": 70,
   "metadata": {},
   "outputs": [
    {
     "name": "stderr",
     "output_type": "stream",
     "text": [
      " 24%|=====               | 123421/510302 [27:12<85:15]       "
     ]
    }
   ],
   "source": [
    "shap_values = explainer(X_train_filtered)"
   ]
  },
  {
   "cell_type": "code",
   "execution_count": null,
   "metadata": {},
   "outputs": [],
   "source": [
    "shap.plots.bar(shap_values)"
   ]
  },
  {
   "cell_type": "markdown",
   "metadata": {},
   "source": [
    "That's it! The random forest constrained+ model performs a tiny bit better on the test set than on the validation set. But the performance is not overwhelming. "
   ]
  },
  {
   "cell_type": "markdown",
   "metadata": {},
   "source": []
  },
  {
   "cell_type": "markdown",
   "metadata": {},
   "source": []
  },
  {
   "cell_type": "markdown",
   "metadata": {},
   "source": [
    "#### When starting and stopping midway (when code crashes)\n",
    "The code below is for loading the performances df into a dictionary, so the dictionary is nice and neat\n",
    "\n",
    "Eases plotting etc"
   ]
  },
  {
   "cell_type": "code",
   "execution_count": null,
   "metadata": {
    "metadata": {}
   },
   "outputs": [],
   "source": [
    "# how to read df into a dictionary\n",
    "df = pd.read_csv('/work/datascience_exam/output/models/model_performances_v8.csv', index_col = 0)\n",
    "\n",
    "# make into list format\n",
    "performances = []\n",
    "\n",
    "for index, row in df.iterrows():\n",
    "    row_dict = {}\n",
    "    for col in df.columns:\n",
    "        row_dict[col] = row[col]\n",
    "    performances.append(row_dict)\n",
    "\n",
    "print(*performances, sep = '\\n')"
   ]
  }
 ],
 "metadata": {
  "kernelspec": {
   "display_name": "env",
   "language": "python",
   "name": "python3"
  },
  "language_info": {
   "codemirror_mode": {
    "name": "ipython",
    "version": 3
   },
   "file_extension": ".py",
   "mimetype": "text/x-python",
   "name": "python",
   "nbconvert_exporter": "python",
   "pygments_lexer": "ipython3",
   "version": "3.12.3"
  }
 },
 "nbformat": 4,
 "nbformat_minor": 2
}
